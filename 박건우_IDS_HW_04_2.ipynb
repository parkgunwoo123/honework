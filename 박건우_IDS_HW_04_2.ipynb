{
  "nbformat": 4,
  "nbformat_minor": 0,
  "metadata": {
    "colab": {
      "provenance": [],
      "toc_visible": true,
      "include_colab_link": true
    },
    "kernelspec": {
      "name": "python3",
      "display_name": "Python 3"
    },
    "language_info": {
      "name": "python"
    }
  },
  "cells": [
    {
      "cell_type": "markdown",
      "metadata": {
        "id": "view-in-github",
        "colab_type": "text"
      },
      "source": [
        "<a href=\"https://colab.research.google.com/github/parkgunwoo123/honework/blob/main/%EB%B0%95%EA%B1%B4%EC%9A%B0_IDS_HW_04_2.ipynb\" target=\"_parent\"><img src=\"https://colab.research.google.com/assets/colab-badge.svg\" alt=\"Open In Colab\"/></a>"
      ]
    },
    {
      "cell_type": "markdown",
      "metadata": {
        "id": "VjwU7EPyKd4i"
      },
      "source": [
        "#HW 04-2. 확률 계산하기\n",
        "\n",
        "1. T1~T5의 확률 문제를 분석하여 문제 해결과 관련한 확률 변수/분포를 파악하라.\n",
        "1. [scipy.stats](https://docs.scipy.org/doc/scipy/reference/stats.html) package를 활용하여 주어진 문제에서 요구하는 확률 값을 계산하는 코드를 작성하라.\n",
        "1. 계산 결과를 Google Form 형식 퀴즈의 답으로 입력하라 "
      ]
    },
    {
      "cell_type": "markdown",
      "metadata": {
        "id": "AfWkS101PMVp"
      },
      "source": [
        "##T1. 생일이 같은 사람이 존재할 확률 계산하기\n",
        "* $N$명의 사람으로 이뤄진 모임이 있다.\n",
        "* 모임의 사람들의 생일간에는 특별한 연관성이 없다고 가정한다. \n",
        "* 즉 어떤 사람의 생일은 1년 366일 (2월 29일도 포함) 중 하루를 모두 같은 확률 (1/366)로 가진다.\n",
        "\n",
        "1.   $N=10$인 모임에서 생일이 같은 사람이 존재할 확률은 얼마나 되나?\n",
        "2.  $N$이 몇 명 이상(Equal or Greater than)이면 생일이 같은 사람이 존재할 확률이 50% 이상이 될까? \n",
        "\n",
        "필요하다면 scipy.special package의 [perm](https://docs.scipy.org/doc/scipy/reference/generated/scipy.special.perm.html#scipy.special.perm) (순열, Permutation), [comb](https://docs.scipy.org/doc/scipy/reference/generated/scipy.special.comb.html#scipy.special.comb) (조합, Combination) 함수를 사용하라.\n",
        "\n",
        "*주어진 코드는 단순 참고용이다.*"
      ]
    },
    {
      "cell_type": "code",
      "metadata": {
        "colab": {
          "base_uri": "https://localhost:8080/"
        },
        "id": "RQnLqwGcOFDG",
        "outputId": "0f37361b-07c2-4d32-8526-2a943089348f"
      },
      "source": [
        "import numpy as np\n",
        "import scipy.special as sp\n",
        "import scipy.stats as stats\n",
        "N=np.arange(1,101)\n",
        "P_all_different = 366*365/(366**2)\n",
        "print(1 - sp.perm(366,10)/366**10)\n",
        "\n",
        "print(1 - sp.perm(366,23)/366**23)\n",
        "\n"
      ],
      "execution_count": null,
      "outputs": [
        {
          "output_type": "stream",
          "text": [
            "0.9972677595628415\n",
            "0.11664541180399979\n",
            "0.5063230118194599\n"
          ],
          "name": "stdout"
        }
      ]
    },
    {
      "cell_type": "markdown",
      "metadata": {
        "id": "vmZ0H_EPSw50"
      },
      "source": [
        "##T2. 주사위 던지기 확률 계산하기\n",
        "* 주사위를 100번 던져 6이 나오는 횟수와 관련한 확률을 구하려 한다.\n",
        "1. 6이 나오는 횟수가 20번 이상일 확률은 얼마인가?\n",
        "1. 6이 나오는 횟수가 5번 이하일 확률은 얼마인가?\n",
        "\n",
        "필요하다면 [scipy.stats](https://docs.scipy.org/doc/scipy/reference/stats.html) package의 확률분포 함수를 사용하라.\n",
        "\n",
        "*주어진 코드는 단순 참고용이다*"
      ]
    },
    {
      "cell_type": "code",
      "metadata": {
        "colab": {
          "base_uri": "https://localhost:8080/"
        },
        "id": "iVTJmNlLSwXB",
        "outputId": "61fb6b5e-7582-414d-9c72-f991cb9f6d01"
      },
      "source": [
        "import scipy.stats as stats\n",
        "\n",
        "# Binomial Random Variable/Distribution\n",
        "n, p = 100, 1/6\n",
        "rv = stats.binom(n,p)\n",
        "print(f\"Pr(X=20이상)={1 - rv.cdf(19)}%\")\n",
        "print(f\"Pr(X=5이하)={rv.cdf(5)}%\")"
      ],
      "execution_count": null,
      "outputs": [
        {
          "output_type": "stream",
          "text": [
            "Pr(X=20이상)=0.21974984306261447%\n",
            "Pr(X=5이하)=0.0003849232800486593%\n",
            "0.9162197590636499\n",
            "0.0002909031105753123\n"
          ],
          "name": "stdout"
        }
      ]
    },
    {
      "cell_type": "markdown",
      "metadata": {
        "id": "ftLz1WfKY3Nl"
      },
      "source": [
        "##T3. A형 간염 보균자 확률 계산하기\n",
        "* 부산대학교 병원은 오랜 기간의 임상 조사와 분석을 통해 한국인의 A형 간염 보균과 관련한 특성을 얻었다.\n",
        "* 결과에 따르면 한국인 10,000명당 평균 16명이 A형 간염균을 가지고 있는 것으로 파악되었다.\n",
        "* 부산대학교 병원은 부산대학교 정보컴퓨터공학부에 재학 중인 학생 1,000명에 대해 A형 간염 보균 여부를 확인하는 검사를 시행할 계획이다.\n",
        "\n",
        "1.  검사 결과 1,000명의 학생 중 A형 간염 보균자가 없을 (0명) 확률은 얼마인가?\n",
        "1. 1,000명의 학생 중 A형 간염 보균자의 수가 5명 이상일 확률은 얼마인가?"
      ]
    },
    {
      "cell_type": "code",
      "metadata": {
        "colab": {
          "base_uri": "https://localhost:8080/"
        },
        "id": "Sms8DzIza2vP",
        "outputId": "6bc65063-7c9a-4ca0-a11e-200c1036e96b"
      },
      "source": [
        "import numpy as np\n",
        "import scipy.stats as stats\n",
        "n, p = 1000, 16 / 10000\n",
        "ks = np.arange(3,8)\n",
        "rv = stats.binom(n,p)\n",
        "print(rv.pmf(0))\n",
        "print(1 - rv.cdf(4))\n",
        "\n",
        "import scipy.stats as stats\n",
        "import numpy as np\n",
        "a1 = stats.binom(1000,16/10000)\n",
        "print(a1.pmf(0))\n",
        "print(1 - a1.cdf(4))"
      ],
      "execution_count": null,
      "outputs": [
        {
          "output_type": "stream",
          "text": [
            "0.20163798014067333\n",
            "0.02357640108072867\n",
            "0.20163798014067333\n",
            "0.02357640108072867\n"
          ],
          "name": "stdout"
        }
      ]
    },
    {
      "cell_type": "markdown",
      "metadata": {
        "id": "mM6bhymtWufB"
      },
      "source": [
        "##T4. 콜센터(Call Center) 통화 시간 길이 확률 계산하기\n",
        "* 어떤 금융 회사 콜 센터(Call Center)는 오랜 기간의 경험과 기록 분석을 통해 고객 서비스를 위한 통화 시간 길이의 특성을 얻었다\n",
        "* 분석 결과 고객 서비스를 위한 통화 시간은 서로 독립이며 (Independent)\n",
        " 그 길이는 평균은 4 분(minute)이었다.\n",
        "\n",
        " 1. 어떤 고객과의 통화가 1분 이내에 끝날 확률은 얼마인가 ?\n",
        " 1. 어떤 고객과의 통화가 8분 이상 걸릴 확률은 얼마인가?  "
      ]
    },
    {
      "cell_type": "code",
      "metadata": {
        "colab": {
          "base_uri": "https://localhost:8080/"
        },
        "id": "UbT8kut1bjD0",
        "outputId": "ee1e7a11-4cdd-4360-9e72-2528abd64637"
      },
      "source": [
        "import scipy.stats as stats\n",
        "rv = stats.uniform(2,3)\n",
        "minute = 4\n",
        "av = stats.expon(scale = minute)\n",
        "left_end = 3.5\n",
        "right_end = 4.5\n",
        "\n",
        "print(av.cdf(1))\n",
        "print(1 - av.cdf(8))\n",
        "\n",
        "import scipy.stats as stats\n",
        "\n",
        "a1 = stats.expon(scale = 4)\n",
        "print(a1.cdf(4))\n",
        "print(1 - a1.cdf(8))"
      ],
      "execution_count": null,
      "outputs": [
        {
          "output_type": "stream",
          "text": [
            "0.22119921692859515\n",
            "0.1353352832366127\n",
            "0.6321205588285577\n",
            "0.1353352832366127\n"
          ],
          "name": "stdout"
        }
      ]
    },
    {
      "cell_type": "markdown",
      "metadata": {
        "id": "TLLDudM1joP9"
      },
      "source": [
        "##T5. IQ 확률 계산하기\n",
        "*  어떤 [조사](https://www.healthline.com/health/average-iq)에 따르면 한국인의 IQ는 평균이 106이라고 한다\n",
        "* IQ 값의 정규(Normal/Gaussian) 분포를 따르며 표준 편차는 15 정도인 것으로 파악된다.\n",
        "\n",
        "1. 임의로 선정한 어떤 한국인의 IQ 값이 120 이하일 확률은 얼마인가?\n",
        "2. 임의로 선정한 어떤 한국인의 IQ 값이 135 이상일 확률은 얼마인가?\n",
        "3. IQ 값이 상위 1%인 한국인은 IQ가 얼마보다 높아야 할까? (결과가 정수가 아닐 경우 반올림하여 답을 적어라)\n",
        "\n",
        "scipy.stats package는 분포에 대해 pmf/pdf, cdf 외에도 ppf() - percent point function - 라는 함수를 제공한다. ppf()는 cdf의 역함수이다. 예를 들어 CDF(x) =  0.9 (즉 Pr(X <= x) = 90%)인 x 값은 PPF(0.9)를 통해 구할 수 있다.  "
      ]
    },
    {
      "cell_type": "code",
      "metadata": {
        "colab": {
          "base_uri": "https://localhost:8080/"
        },
        "id": "vVQhdedemIjS",
        "outputId": "8bf7ef2d-de76-4c7b-d646-4c21c84a4399"
      },
      "source": [
        "import scipy.stats as stats\n",
        "# standard normal X ~ N(0,1^2)\n",
        "rv = stats.norm(loc = 106, scale = 15)\n",
        "\n",
        "print(f\"Pr(X <= 120) = {rv.cdf(120)}, Pr(X >= 135) = {1 - rv.cdf(135)})\")\n",
        "print(rv.ppf(0.99))\n",
        "\n",
        "import scipy.stats as stats\n",
        "a1 = stats.norm(loc = 106, scale = 15)\n",
        "print(a1.cdf(120))\n",
        "print(1 - a1.cdf(135))\n",
        "print(a1.ppf(0.99))\n",
        "print(stats.norm(106,15).cdf(120))\n",
        "print(1 - stats.norm(106,15).cdf(135))\n",
        "print(stats.norm(106,15).ppf(0.99))"
      ],
      "execution_count": null,
      "outputs": [
        {
          "output_type": "stream",
          "text": [
            "Pr(X <= 120) = 0.8246760551477705, Pr(X >= 135) = 0.026597574021009596)\n",
            "140.8952181106126\n",
            "0.8246760551477705\n",
            "0.026597574021009596\n",
            "140.8952181106126\n",
            "0.8246760551477705\n",
            "0.026597574021009596\n",
            "140.8952181106126\n"
          ],
          "name": "stdout"
        }
      ]
    }
  ]
}