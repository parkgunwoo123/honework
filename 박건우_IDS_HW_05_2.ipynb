{
  "nbformat": 4,
  "nbformat_minor": 0,
  "metadata": {
    "colab": {
      "provenance": [],
      "toc_visible": true,
      "include_colab_link": true
    },
    "kernelspec": {
      "name": "python3",
      "display_name": "Python 3"
    },
    "language_info": {
      "name": "python"
    }
  },
  "cells": [
    {
      "cell_type": "markdown",
      "metadata": {
        "id": "view-in-github",
        "colab_type": "text"
      },
      "source": [
        "<a href=\"https://colab.research.google.com/github/parkgunwoo123/honework/blob/main/%EB%B0%95%EA%B1%B4%EC%9A%B0_IDS_HW_05_2.ipynb\" target=\"_parent\"><img src=\"https://colab.research.google.com/assets/colab-badge.svg\" alt=\"Open In Colab\"/></a>"
      ]
    },
    {
      "cell_type": "markdown",
      "metadata": {
        "id": "UyH_2M6VNWC_"
      },
      "source": [
        "# HW 05-2. Simple Hypothesis Testing using Simulation / $t$-test"
      ]
    },
    {
      "cell_type": "markdown",
      "metadata": {
        "id": "_3bBs8j_NeiU"
      },
      "source": [
        "##T1. Mind Reader\n",
        "Jin claims he can read minds. His friend Pedro asked him to guess a number he was thinking of between 1 and 7 (inclusive). Jin guessed Pedro's number correctly 4 out of 9 times.\n",
        "Let's test **the hypothesis that Jin cannot read minds and therefore has a chance of $\\dfrac{1}{7}$ of guessing the correct number each time** versus *the alternative that his chance is somehow greater*.\t\n",
        "\n",
        "### To Do\n",
        "* Complete the code below to perform **10000** simulations, each simulating **9** guesses with a chance of $\\dfrac{1}{7}$ being correct. \n",
        "\n",
        "* Analyze your simulation results and calculate the probability of having **4** or more correct guesses out of **9**. \n",
        "\n",
        "* Let's agree that if the observed outcome has a probability less than **1%** under the tested hypothesis, we will reject the hypothesis. What should you conclude regarding the hypothesis?\n",
        "\n",
        "---\n",
        "p_value가 약 0.03으로 1%보다 큼으로 마음을 읽을 수 없"
      ]
    },
    {
      "cell_type": "code",
      "metadata": {
        "id": "g4jQ1PUgVk-c"
      },
      "source": [],
      "execution_count": null,
      "outputs": []
    },
    {
      "cell_type": "code",
      "metadata": {
        "id": "GVNqrfm4NVQX",
        "colab": {
          "base_uri": "https://localhost:8080/"
        },
        "outputId": "25bf69fa-c9b9-4940-c409-6478f0d593ca"
      },
      "source": [
        "import numpy as np\n",
        "import scipy.stats as stat\n",
        "import math\n",
        "\n",
        "np.random.seed(seed=1000)\n",
        "\n",
        "n_simulations = 10000\n",
        "n_sample = 9\n",
        "p_correct = 1/7\n",
        "\n",
        "bin_rv = stat.binom(n_sample, p_correct)\n",
        "print(1 - bin_rv.cdf(3))\n",
        "\n",
        "rvals = bin_rv.rvs(n_simulations)\n",
        "temp_z = (rvals - bin_rv.mean())\n",
        "temp_zz = math.sqrt(bin_rv.var()/9)\n",
        "temp_Z = temp_z / temp_zz\n",
        "Real_Z = (4 - bin_rv.mean()) / math.sqrt(bin_rv.var()/9)\n",
        "count = 0\n",
        "for i in range(n_simulations):\n",
        "  if Real_Z > temp_Z[i]:\n",
        "    count += 1\n",
        "\n",
        "print(count)\n",
        "p_value = count / n_simulations\n",
        "tt = bin_rv.mean()\n",
        "zz = bin_rv.std()\n",
        "print(stat.norm(tt,zz).cdf(4))\n"
      ],
      "execution_count": null,
      "outputs": [
        {
          "output_type": "stream",
          "text": [
            "0.028809494031103555\n",
            "9704\n",
            "0.9951391288438791\n"
          ],
          "name": "stdout"
        }
      ]
    },
    {
      "cell_type": "markdown",
      "metadata": {
        "id": "Om7-oXNeYwmy"
      },
      "source": [
        "## T2. Foot Length\n",
        "\n",
        "Jun-Hwan found a report suggesting that teenagers' foot lengths are approximately normally distributed with a mean of $24\\text{ cm}$ and a standard deviation of $2.6\\text{ cm}$. Jun-Hwan wondered if this held true at his school, so he took a random sample of $n=9$ students. The mean foot length of students in his sample was $\\bar x=25.6\\text{ cm}$ \n",
        "\n",
        "You want to test $H_0 : \\mu = 24 \\text{ cm}$  vs.  $H_1 : \\mu > 24 \\text { cm}$ where $\\mu$ is the true mean of teenager's foot length.\n",
        "\n",
        "### To Do\n",
        "* Complete the code below to perform **10000** simulations, each simulating **9** lenghts from a normal population with a mean of $24 \\text{ cm}$ and standard deviation of $2.6 \\text{ cm}$. \n",
        "* Based on your simulated results, what is the approxiate $P$-value of the test ? Note the sample result was $\\bar x=25.6\\text{ cm}$\n",
        "* Consider 2 significance levels $\\alpha_1 = 0.05, \\alpha_2 = 0.01$ for the test\n",
        "\n",
        "---\n",
        "9개의 샘플의 평균이 25.6일 때, 정규분포(24,(2.6)$^2$)를 1만번 시뮬레이션한 평균과 분산을 귀무가설로 설정하면,\n",
        "p value 값이 약 0.0304 정도로 나오는데, 결과의 확률이 5%보다 작을 때 기각을 한다면, 귀무가설은 기각하고, 만약 1%보다 작을 때 기각을 한다면, 귀무가설은 기각되지 않는다."
      ]
    },
    {
      "cell_type": "code",
      "metadata": {
        "colab": {
          "base_uri": "https://localhost:8080/"
        },
        "id": "vx2pRL8UeebF",
        "outputId": "8ff1e3d6-ce54-4085-cec3-395da6b50330"
      },
      "source": [
        "import numpy as np\n",
        "import scipy.stats as stat\n",
        "import math\n",
        "np.random.seed(seed=1000)\n",
        "\n",
        "n_simulations = 10000\n",
        "mu = 24\n",
        "sigma = 2.6\n",
        "n_sample = 9\n",
        "\n",
        "n_rv = stat.norm(mu, sigma)\n",
        "\n",
        "rvals_array = n_rv.rvs(n_simulations*n_sample).reshape(n_simulations, n_sample)\n",
        "\n",
        "xbars = rvals_array.mean(1)\n",
        "print(xbars)\n",
        "xvars = rvals_array.var(1)\n",
        "print(xvars)\n",
        "T____stat = (xbars - mu) \n",
        "T___stat = math.sqrt( (2.6**2) / n_sample)\n",
        "T__stat = T____stat / T___stat\n",
        "print(T__stat)\n",
        "Real_t = (25.6 - mu) / math.sqrt(2.6**2/9)\n",
        "print(Real_t)\n",
        "var1 = rvals_array.var()\n",
        "count = 0\n",
        "for i in range(n_simulations):\n",
        "  if Real_t > T__stat[i]:\n",
        "    count += 1\n",
        "print(count)\n",
        "p_value = 304 / 10000"
      ],
      "execution_count": null,
      "outputs": [
        {
          "output_type": "stream",
          "text": [
            "[24.06690875 23.50384897 24.71425341 ... 24.74772985 25.0805052\n",
            " 25.68366079]\n",
            "[1.50083674 2.35828337 4.35322308 ... 4.58244877 9.08919624 1.45599754]\n",
            "[ 0.0772024  -0.57248196  0.82413855 ...  0.86276522  1.24673677\n",
            "  1.94268553]\n",
            "1.8461538461538478\n",
            "9696\n"
          ],
          "name": "stdout"
        }
      ]
    },
    {
      "cell_type": "markdown",
      "metadata": {
        "id": "ylDOmzwvhk89"
      },
      "source": [
        "## T3. One-sample $t$-test example - Energy Bar Test\n",
        "\n",
        "Imagine we have collected a random sample of **31** energy bars from a number of different stores to represent the population of energy bars available to the general consumer. The labels on the bars claim that each bar contains **20** grams of protein.\n",
        "\n",
        "You can find the actual protein contained in the collected energy bars in the variable -\"ebp_df\" in the code below (ebp stands for energy_bar_protein). It shows that some bars have less than 20 grams of protein. Other bars have more. \n",
        "\n",
        "You might think that the data support the idea that the labels are correct. Others might disagree. \n",
        "\n",
        "We decide to perform one-sample t-test to test the following hypotheses\n",
        "\n",
        "$H_0 : \\mu = 20 $  vs. $H_1 : \\mu \\ne 20 $  \n",
        "\n",
        "### To DO. \n",
        "* What is the degrees of freedom of the sample ?\n",
        "* Calculate the $t$-statistic and the $P$-value of the sample by completing the code below\n",
        "* For 2 significance levels $\\alpha_1 = 0.05, \\alpha_2 = 0.01$ for the test, what should you conclude regarding the hypothesis?\n",
        "\n",
        "\n",
        "---\n",
        "\n",
        "degrees of freedom = 30\n",
        "t static = 3.06683164 , P-value =0.00455262\n",
        "significance levels  α1=0.05 일 때와 α2=0.01 모두 프로틴이 20그램 있다는 귀무가설을 기각한다.\n"
      ]
    },
    {
      "cell_type": "markdown",
      "metadata": {
        "id": "-SqWu0Ikr9kh"
      },
      "source": []
    },
    {
      "cell_type": "markdown",
      "metadata": {
        "id": "ZQgqIafapm9D"
      },
      "source": []
    },
    {
      "cell_type": "code",
      "metadata": {
        "colab": {
          "base_uri": "https://localhost:8080/"
        },
        "id": "oSkgfeXrijCN",
        "outputId": "57cd8d4c-5a2f-4baf-bf77-2b3e365d8727"
      },
      "source": [
        "import pandas as pd\n",
        "import scipy.stats as stat\n",
        "import math\n",
        "\n",
        "ebp_df = pd.DataFrame(data=[20.7, 27.46, 22.15, 19.85, 21.29, 24.75, 20.75, \n",
        "                               22.91, 25.34, 20.33, 21.54, 21.08, 22.14, 19.56, \n",
        "                               21.1, 18.04, 24.12, 19.95, 19.72, 18.28, 16.26, \n",
        "                               17.46, 20.53, 22.12, 25.06, 22.44, 19.08, 19.88, \n",
        "                               21.39, 22.33, 25.79], columns=['protein'])\n",
        "print(ebp_df.describe())\n",
        "t_stat = (ebp_df.mean()-20)/math.sqrt(ebp_df.var()/ebp_df.count())\n",
        "print(t_stat)\n",
        "\n",
        "result1 = stat.ttest_1samp(ebp_df, 20)\n",
        "print(result1)"
      ],
      "execution_count": null,
      "outputs": [
        {
          "output_type": "stream",
          "text": [
            "         protein\n",
            "count  31.000000\n",
            "mean   21.400000\n",
            "std     2.541669\n",
            "min    16.260000\n",
            "25%    19.865000\n",
            "50%    21.100000\n",
            "75%    22.385000\n",
            "max    27.460000\n",
            "protein    3.066832\n",
            "dtype: float64\n",
            "Ttest_1sampResult(statistic=array([3.06683164]), pvalue=array([0.00455262]))\n"
          ],
          "name": "stdout"
        }
      ]
    },
    {
      "cell_type": "markdown",
      "metadata": {
        "id": "J8o4uHWvxE3G"
      },
      "source": [
        "## T4. One-Sample $t$-test Example - Height Test\n",
        "\n",
        "According to [KOSIS(KOrean Statistical Information Service : 국가통계포털)](https://kosis.kr/statHtml/statHtml.do?orgId=350&tblId=DT_35007_N130), \n",
        "the mean height of Korean men aged 20-29 years is about 174.21 cm in 2019.\n",
        "\n",
        "We got a sample of heights from 21 male students from PNU which is shown in the code below. The sample mean is a little higher than the mean height of Korean men aged 20-29. Let's test if the mean height of students at PNU is significantly taller than 174.21 using the one-sample $t$ test. The null and alternative hypotheses of this test will be:\n",
        "\n",
        "$H_0 : \\mu = 174.21$ vs. $ H_1 : \\mu > 174.21 $\n",
        "\n",
        "### To DO. \n",
        "* Calculate the $t$-statistic and the $P$-value of the sample by completing the code below\n",
        "* For 2 significance levels $\\alpha_1 = 0.1, \\alpha_2 = 0.05$ for the test, what should you conclude regarding the hypothesis?\n",
        "* Calculate confidence intervals for the mean height for 2 confidence levels 90% and 95%\n",
        "---\n",
        "\n",
        "t-static = 1.54877645, P -value of the sample = 0.13711478\n",
        "significance levels  α1=0.1,α2=0.05 둘 다 p value 0.1311478보다 작음으로 기각하지 않는다.\n",
        "신뢰구간이 95% = 173.262119 <= μ <= 180.623595\n",
        "신뢰구간이 90% = 173.899546 <= μ <= 179.986168"
      ]
    },
    {
      "cell_type": "code",
      "metadata": {
        "colab": {
          "base_uri": "https://localhost:8080/"
        },
        "id": "XIZRHNwv1VII",
        "outputId": "dbbfa5f0-b3b7-4341-f874-7b60ac3c0eb4"
      },
      "source": [
        "import pandas as pd\n",
        "import scipy.stats as stat\n",
        "import math\n",
        "\n",
        "mu = 174.21\n",
        "\n",
        "sample_df = pd.DataFrame(data=[180.32, 178.71, 168.59, 176.30, 169.02,\n",
        " 168.76, 187.58, 188.54, 173.90, 177.67, 182.54, 178.34, 189.83, 171.16, \n",
        " 190.10, 176.75, 166.24, 175.25, 184.69, 164.73, 166.78], columns=['height'])\n",
        "\n",
        "print(sample_df.describe())\n",
        "t_static1 = (sample_df.mean() - mu) / math.sqrt(sample_df.var()/sample_df.count())\n",
        "print(t_static1)\n",
        "print(stat.ttest_1samp(sample_df,mu))\n",
        "print(sample_df.mean() - stat.t(20).ppf(0.975) * math.sqrt(sample_df.var()/sample_df.count())) \n",
        "print(sample_df.mean() + stat.t(20).ppf(0.975) * math.sqrt(sample_df.var()/sample_df.count())) \n",
        "print(sample_df.mean() - stat.t(20).ppf(0.95) * math.sqrt(sample_df.var()/sample_df.count())) \n",
        "print(sample_df.mean() + stat.t(20).ppf(0.95) * math.sqrt(sample_df.var()/sample_df.count())) "
      ],
      "execution_count": null,
      "outputs": [
        {
          "output_type": "stream",
          "text": [
            "           height\n",
            "count   21.000000\n",
            "mean   176.942857\n",
            "std      8.086076\n",
            "min    164.730000\n",
            "25%    169.020000\n",
            "50%    176.750000\n",
            "75%    182.540000\n",
            "max    190.100000\n",
            "height    1.548776\n",
            "dtype: float64\n",
            "Ttest_1sampResult(statistic=array([1.54877645]), pvalue=array([0.13711478]))\n",
            "height    173.262119\n",
            "dtype: float64\n",
            "height    180.623595\n",
            "dtype: float64\n",
            "height    173.899546\n",
            "dtype: float64\n",
            "height    179.986168\n",
            "dtype: float64\n"
          ],
          "name": "stdout"
        }
      ]
    }
  ]
}